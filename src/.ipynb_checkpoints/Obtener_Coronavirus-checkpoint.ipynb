{
 "cells": [
  {
   "cell_type": "code",
   "execution_count": 1,
   "metadata": {},
   "outputs": [],
   "source": [
    "import numpy as np\n",
    "import pandas as pd\n",
    "from bs4 import BeautifulSoup\n",
    "from urllib.request import urlopen"
   ]
  },
  {
   "cell_type": "code",
   "execution_count": 2,
   "metadata": {},
   "outputs": [],
   "source": [
    "def ObtenerDatos(soup, ID, columns):\n",
    "    # Hay 4 tipos de tablas con los siguientes IDs:\n",
    "        ## tbA: PIB Anual\n",
    "        ## tbPC: PIB Per Capita\n",
    "        ## tbT: PIB Trimestral\n",
    "        ## tbPCT: PIB Trim Per Capita\n",
    "\n",
    "    # Analizamos primero la PIB Anual\n",
    "    tables = soup.find_all('table', {\"id\": ID})\n",
    "\n",
    "    # Se inicializa el DataFrame\n",
    "    df = pd.DataFrame(columns=columns)\n",
    "\n",
    "    # Se recorre la tabla\n",
    "    for table in tables:\n",
    "        rows = table.find_all('tr')\n",
    "\n",
    "        for row in rows:\n",
    "            cells = row.find_all('td')\n",
    "\n",
    "            # Tras analizar los diferentes valores de la celda, se observa que:\n",
    "                ## Celda 0: Contiene el nombre del país\n",
    "                ## Celda 1: Contiene el año en el que se analizó el PIB\n",
    "                ## Celda 2: Contiene el PIB expresado en euros\n",
    "                ## Celda 3: Celda vacía reservada al formato\n",
    "                ## Celda 4: Contiene el PIB expresado en dólares\n",
    "                ## Celda 5: Celda vacía reservada al formato\n",
    "                ## Celda 6: Contiene la variación del PIB respecto al año anterior\n",
    "                ## Celda 7: Celda vacía reservada al formato\n",
    "            # Por tando, en el dataset se guardarán las Celdas 0,1,2,4 y 6\n",
    "\n",
    "            if len(cells) > 1:\n",
    "                # No se cogen los datos acumulados de la zona euro\n",
    "                if cells[0].text != \"Zona Euro [+]\":\n",
    "\n",
    "                    # Se asignan valores\n",
    "                    country = cells[0].text.replace(\" [+]\", \"\")\n",
    "                    annio = cells[1].text\n",
    "                    euro = cells[2].text.replace(\"M.€\", \"\").replace(\"€\", \"\")#.replace(\".\", \"\")\n",
    "                    dolar = cells[4].text.replace(\"M.$\", \"\").replace(\"$\", \"\")#.replace(\".\", \"\")\n",
    "                    variacion = cells[6].text\n",
    "\n",
    "                    # Se insertan los valores recogidos en el dataframe\n",
    "                    df2 = pd.DataFrame([[country, annio, euro, dolar, variacion]], columns=columns)\n",
    "                    df = df.append(df2)\n",
    "\n",
    "    df = df.set_index(\"Paises\")\n",
    "    return df"
   ]
  },
  {
   "cell_type": "code",
   "execution_count": 3,
   "metadata": {},
   "outputs": [],
   "source": [
    "def GuardarFichero(dataframe, ruta, nombre_fichero):\n",
    "    import os\n",
    "    # Se comprueba si existe el directorio CSV para guardar el fichero\n",
    "    if not os.path.exists(ruta):\n",
    "        os.makedirs(ruta)\n",
    "\n",
    "    dataframe.to_csv (ruta + nombre_fichero, index = True, header=True, sep=\";\")"
   ]
  },
  {
   "cell_type": "code",
   "execution_count": 4,
   "metadata": {
    "scrolled": true
   },
   "outputs": [],
   "source": [
    "def ObtenerDataframePIB(url):\n",
    "    html = urlopen(url) \n",
    "    soup = BeautifulSoup(html, 'html.parser')\n",
    "\n",
    "    # Se recupera la tabla PIB Anual\n",
    "    columns_anual = [\"Paises\", \"Año\", \"PIB Anual (M.€)\", \"PIB Anual (M.$)\", \"Var PIB Anual\"]\n",
    "    df_anual = ObtenerDatos(soup, \"tbA\", columns_anual)\n",
    "\n",
    "    # Se recupera la tabla PIB Per Capita\n",
    "    columns_per_capita = [\"Paises\", \"Año\", \"PIB Per Capita (€)\", \"PIB Per Capita ($)\", \"Var PIB Per Capita\"]\n",
    "    df_per_capita = ObtenerDatos(soup, \"tbPC\", columns_per_capita)\n",
    "\n",
    "    # Merges entre los DataFrames\n",
    "    df_final = pd.merge(df_anual, df_per_capita, left_index=True, right_index=True)\n",
    "    return df_final\n",
    "\n",
    "    # TO-DO: Analizar Canada porque hay duplicados, aunque igual se hace en la PRA 2\n",
    "    # df_final.filter(like='nad', axis=0)"
   ]
  },
  {
   "cell_type": "code",
   "execution_count": 5,
   "metadata": {},
   "outputs": [],
   "source": [
    "nombre_fichero = 'PIB.csv'\n",
    "ruta = \"../csv/\"\n",
    "url = 'https://datosmacro.expansion.com/pib'\n",
    "\n",
    "df_pib = ObtenerDataframePIB(url)\n",
    "GuardarFichero(df_pib, ruta, nombre_fichero)"
   ]
  }
 ],
 "metadata": {
  "kernelspec": {
   "display_name": "Python 3",
   "language": "python",
   "name": "python3"
  },
  "language_info": {
   "codemirror_mode": {
    "name": "ipython",
    "version": 3
   },
   "file_extension": ".py",
   "mimetype": "text/x-python",
   "name": "python",
   "nbconvert_exporter": "python",
   "pygments_lexer": "ipython3",
   "version": "3.7.3"
  }
 },
 "nbformat": 4,
 "nbformat_minor": 2
}
