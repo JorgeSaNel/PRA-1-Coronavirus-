{
 "cells": [
  {
   "cell_type": "code",
   "execution_count": 1,
   "metadata": {},
   "outputs": [],
   "source": [
    "import numpy as np\n",
    "import pandas as pd\n",
    "from bs4 import BeautifulSoup\n",
    "from urllib.request import urlopen"
   ]
  },
  {
   "cell_type": "code",
   "execution_count": 2,
   "metadata": {},
   "outputs": [],
   "source": [
    "def ObtenerDataframeCoronavirus(soup):\n",
    "    start = False\n",
    "\n",
    "    # Se inicializa el DataFrame\n",
    "    columns = [\"Paises\", \"Continente\", \"Casos Positivos\", \"CxM Habitantes\", \"Fallecidos\", \"Porcentaje Fallecidos\", \"FxM Habitantes\", \"Recuperados\", \"Porcentaje Recuperados\"]\n",
    "    df = pd.DataFrame(columns=columns)\n",
    "    \n",
    "    # Se recorren los elementos de la tabla\n",
    "    tables = soup.find_all('table')\n",
    "    \n",
    "    for table in tables:\n",
    "        rows = table.find_all('tr')\n",
    "\n",
    "        for row in rows:\n",
    "            th = row.find_all('th')\n",
    "\n",
    "            if (len(th) > 1): \n",
    "                texto_inicial = th[0].text.strip('\\n')\n",
    "\n",
    "                # Analizando el código HTML, se observa que se puede empezar a coger datos cuando se cumple esta condición\n",
    "                if (texto_inicial == '233 territorios o transportes'):\n",
    "                    start = True\n",
    "                    continue\n",
    "                elif (texto_inicial == '#'):\n",
    "                # Se deja de coger datos cuando se cumple esta otra condición\n",
    "                    start = False\n",
    "                    break\n",
    "\n",
    "                if start:\n",
    "                    td = row.find_all('td')\n",
    "\n",
    "                    # TO-DO: eliminar numeros de los paises\n",
    "                    # TO-DO: eliminar espacios en blanco de los numeros (ej: casos positivos)\n",
    "\n",
    "                    # Se eliminan del pais los saltos de linea, los espacios en blanco al principio, y los números y parénteris\n",
    "                    pais = th[0].text.strip('\\n').lstrip()\n",
    "                    continente = th[1].text.strip('\\n')\n",
    "                    # Se sustituye el espacio en blanco por un punto\n",
    "                    casos_positivos = td[0].text.replace(' ', '.')\n",
    "                    # Se sustituye el punto por coma para representar a los decimales\n",
    "                    cxmhab = td[1].text.strip('\\n').replace('.', ',')\n",
    "                    fallecidos = td[2].text.replace(' ', '.')\n",
    "                    por_fallecidos =td[3].text\n",
    "                    fxmhab = td[4].text.strip('\\n').replace('.', ',')\n",
    "                    recuperados = td[5].text\n",
    "                    por_recuperados = td[6].text.strip('\\n')\n",
    "\n",
    "                    # Se insertan los valores recogidos en el dataframe\n",
    "                    df2 = pd.DataFrame([[pais, continente, casos_positivos, cxmhab, fallecidos, por_fallecidos, fxmhab, recuperados, por_recuperados]], columns=columns)\n",
    "                    df = df.append(df2)\n",
    "\n",
    "    df = df.set_index(\"Paises\")\n",
    "    return df"
   ]
  },
  {
   "cell_type": "code",
   "execution_count": 3,
   "metadata": {},
   "outputs": [],
   "source": [
    "def GuardarFichero(dataframe, ruta, nombre_fichero):\n",
    "    import os\n",
    "    # Se comprueba si existe el directorio CSV para guardar el fichero\n",
    "    if not os.path.exists(ruta):\n",
    "        os.makedirs(ruta)\n",
    "\n",
    "    dataframe.to_csv (ruta + nombre_fichero, index = True, header=True, sep=\";\")"
   ]
  },
  {
   "cell_type": "code",
   "execution_count": 4,
   "metadata": {
    "scrolled": true
   },
   "outputs": [],
   "source": [
    "def ObtenerCasosCoronavirus(url):\n",
    "    html = urlopen(url) \n",
    "    soup = BeautifulSoup(html, 'html.parser')\n",
    "\n",
    "    # Se recupera la tabla de casos del Coronavirus\n",
    "    return ObtenerDataframeCoronavirus(soup)"
   ]
  },
  {
   "cell_type": "code",
   "execution_count": 7,
   "metadata": {},
   "outputs": [],
   "source": [
    "nombre_fichero = 'CasosCoronavirus.csv'\n",
    "ruta = \"../csv/\"\n",
    "url = 'https://es.wikipedia.org/wiki/Pandemia_de_enfermedad_por_coronavirus_de_2019-2020'\n",
    "\n",
    "df_coronavirus = ObtenerCasosCoronavirus(url)\n",
    "GuardarFichero(df_coronavirus, ruta, nombre_fichero)"
   ]
  }
 ],
 "metadata": {
  "kernelspec": {
   "display_name": "Python 3",
   "language": "python",
   "name": "python3"
  },
  "language_info": {
   "codemirror_mode": {
    "name": "ipython",
    "version": 3
   },
   "file_extension": ".py",
   "mimetype": "text/x-python",
   "name": "python",
   "nbconvert_exporter": "python",
   "pygments_lexer": "ipython3",
   "version": "3.7.3"
  }
 },
 "nbformat": 4,
 "nbformat_minor": 2
}
